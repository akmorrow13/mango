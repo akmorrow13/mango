{
 "cells": [
  {
   "cell_type": "code",
   "execution_count": 1,
   "metadata": {},
   "outputs": [],
   "source": [
    "################ For testing purposes only ################\n",
    "try:\n",
    "    testMode\n",
    "except NameError:\n",
    "    testMode = False\n",
    "\n",
    "try:\n",
    "    alignmentFile\n",
    "except NameError:\n",
    "    # NOTE: this is for a local example. Based on file placement, you may have to change this path\n",
    "    alignmentFile = os.getcwd() + \"/../chr17.7500000-7515000.sam.adam\"\n",
    "\n",
    "\n",
    "try:\n",
    "    variantFile\n",
    "except NameError:\n",
    "    # NOTE: this is for a local example. Based on file placement, you may have to change this path\n",
    "    variantFile = os.getcwd() + \"/../snv.chr17.7502100-7502500.vcf\"\n",
    "\n",
    "try:\n",
    "    featureFile\n",
    "except NameError:\n",
    "    # NOTE: this is for a local example. Based on file placement, you may have to change this path\n",
    "    featureFile = os.getcwd() + \"/../chr17.582500-594500.bed\""
   ]
  },
  {
   "cell_type": "code",
   "execution_count": 2,
   "metadata": {},
   "outputs": [],
   "source": [
    "from bdgenomics.adam.adamContext import ADAMContext\n",
    "from bdgenomics.mango.alignments import *"
   ]
  },
  {
   "cell_type": "code",
   "execution_count": 3,
   "metadata": {},
   "outputs": [],
   "source": [
    "ac = ADAMContext(spark)"
   ]
  },
  {
   "cell_type": "code",
   "execution_count": 4,
   "metadata": {},
   "outputs": [],
   "source": [
    "# alignments\n",
    "reads = ac.loadAlignments(alignmentFile)\n",
    "alignmentViz = AlignmentSummary(spark, ac, reads)"
   ]
  },
  {
   "cell_type": "code",
   "execution_count": 6,
   "metadata": {},
   "outputs": [
    {
     "data": {
      "application/vnd.jupyter.widget-view+json": {
       "model_id": "67632c6bdc524a6bb71784580cec14dc",
       "version_major": 2,
       "version_minor": 0
      },
      "text/plain": [
       "UmVhZHMoY29udGlnPXUnMTcnLCBqc29uPXUne1xuICAiYWxpZ25tZW50cyI6IFt7XG4gICAgImlkIjogIiIsXG4gICAgInJlYWRHcm91cElkIjogIkgwNkpVLjEiLFxuICAgICJmcmFnbWVudE7igKY=\n"
      ]
     },
     "metadata": {},
     "output_type": "display_data"
    }
   ],
   "source": [
    "contig = \"17\"\n",
    "start = 7500000\n",
    "end = 7500500\n",
    "\n",
    "alignmentViz.viewPileup(contig, start, end)"
   ]
  },
  {
   "cell_type": "code",
   "execution_count": null,
   "metadata": {},
   "outputs": [],
   "source": []
  }
 ],
 "metadata": {
  "kernelspec": {
   "display_name": "Python 2",
   "language": "python",
   "name": "python2"
  },
  "language_info": {
   "codemirror_mode": {
    "name": "ipython",
    "version": 2
   },
   "file_extension": ".py",
   "mimetype": "text/x-python",
   "name": "python",
   "nbconvert_exporter": "python",
   "pygments_lexer": "ipython2",
   "version": "2.7.10"
  }
 },
 "nbformat": 4,
 "nbformat_minor": 1
}
