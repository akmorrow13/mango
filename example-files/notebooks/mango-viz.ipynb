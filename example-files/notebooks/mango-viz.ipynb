{
 "cells": [
  {
   "cell_type": "code",
   "execution_count": 1,
   "metadata": {
    "collapsed": true
   },
   "outputs": [],
   "source": [
    "################ For testing purposes only ################\n",
    "try:\n",
    "    testMode\n",
    "except NameError:\n",
    "    testMode = False\n",
    "\n",
    "try:\n",
    "    alignmentFile\n",
    "except NameError:\n",
    "    # NOTE: this is for a local example. Based on file placement, you may have to change this path\n",
    "    alignmentFile = os.getcwd() + \"/../chr17.7500000-7515000.sam\"\n",
    "\n",
    "\n",
    "try:\n",
    "    variantFile\n",
    "except NameError:\n",
    "    # NOTE: this is for a local example. Based on file placement, you may have to change this path\n",
    "    variantFile = os.getcwd() + \"/../snv.chr17.7502100-7502500.vcf\"\n",
    "\n",
    "try:\n",
    "    featureFile\n",
    "except NameError:\n",
    "    # NOTE: this is for a local example. Based on file placement, you may have to change this path\n",
    "    featureFile = os.getcwd() + \"/../chr17.582500-594500.bed\""
   ]
  },
  {
   "cell_type": "code",
   "execution_count": 12,
   "metadata": {
    "collapsed": true
   },
   "outputs": [],
   "source": [
    "from bdgenomics.adam.adamContext import ADAMContext\n",
    "from bdgenomics.mango.alignments import *\n",
    "from bdgenomics.mango.features import *\n",
    "from bdgenomics.mango.variants import *\n",
    "from bdgenomics.mango.genotypes import *"
   ]
  },
  {
   "cell_type": "code",
   "execution_count": 3,
   "metadata": {
    "collapsed": true
   },
   "outputs": [],
   "source": [
    "ac = ADAMContext(spark)"
   ]
  },
  {
   "cell_type": "markdown",
   "metadata": {},
   "source": [
    "# Alignments"
   ]
  },
  {
   "cell_type": "code",
   "execution_count": 4,
   "metadata": {
    "collapsed": true
   },
   "outputs": [],
   "source": [
    "\n",
    "reads = ac.loadAlignments(alignmentFile)\n",
    "alignmentViz = AlignmentSummary(spark, ac, reads)"
   ]
  },
  {
   "cell_type": "code",
   "execution_count": 5,
   "metadata": {},
   "outputs": [
    {
     "data": {
      "application/vnd.jupyter.widget-view+json": {
       "model_id": "17a2c42a8210499cab29a3859c05303e",
       "version_major": 2,
       "version_minor": 0
      },
      "text/plain": [
       "A Jupyter Widget"
      ]
     },
     "metadata": {},
     "output_type": "display_data"
    }
   ],
   "source": [
    "contig = \"17\"\n",
    "start = 7500000\n",
    "end = 7500500\n",
    "\n",
    "alignmentViz.viewPileup(contig, start, end)"
   ]
  },
  {
   "cell_type": "markdown",
   "metadata": {},
   "source": [
    "# Variants"
   ]
  },
  {
   "cell_type": "code",
   "execution_count": 6,
   "metadata": {
    "collapsed": true
   },
   "outputs": [],
   "source": [
    "variants = ac.loadVariants(variantFile)\n",
    "variantViz = VariantSummary(ac, variants)"
   ]
  },
  {
   "cell_type": "code",
   "execution_count": 7,
   "metadata": {},
   "outputs": [
    {
     "data": {
      "application/vnd.jupyter.widget-view+json": {
       "model_id": "9cfd8447c63b467381fc2b0e9bfba561",
       "version_major": 2,
       "version_minor": 0
      },
      "text/plain": [
       "A Jupyter Widget"
      ]
     },
     "metadata": {},
     "output_type": "display_data"
    }
   ],
   "source": [
    "contig = \"17\"\n",
    "start = 7512002\n",
    "end = 7512788\n",
    "\n",
    "variantViz.viewPileup(contig, start, end)"
   ]
  },
  {
   "cell_type": "markdown",
   "metadata": {},
   "source": [
    "# Genotypes"
   ]
  },
  {
   "cell_type": "code",
   "execution_count": 20,
   "metadata": {},
   "outputs": [],
   "source": [
    "genotypes = ac.loadGenotypes(variantFile)\n",
    "genotypeViz = GenotypeSummary(spark, ac, genotypes)"
   ]
  },
  {
   "cell_type": "code",
   "execution_count": 21,
   "metadata": {},
   "outputs": [
    {
     "ename": "NameError",
     "evalue": "global name 'pileup' is not defined",
     "output_type": "error",
     "traceback": [
      "\u001b[0;31m---------------------------------------------------------------------------\u001b[0m",
      "\u001b[0;31mNameError\u001b[0m                                 Traceback (most recent call last)",
      "\u001b[0;32m<ipython-input-21-b8ae56c33a3d>\u001b[0m in \u001b[0;36m<module>\u001b[0;34m()\u001b[0m\n\u001b[1;32m      3\u001b[0m \u001b[0mend\u001b[0m \u001b[0;34m=\u001b[0m \u001b[0;36m7512788\u001b[0m\u001b[0;34m\u001b[0m\u001b[0m\n\u001b[1;32m      4\u001b[0m \u001b[0;34m\u001b[0m\u001b[0m\n\u001b[0;32m----> 5\u001b[0;31m \u001b[0mgenotypeViz\u001b[0m\u001b[0;34m.\u001b[0m\u001b[0mviewPileup\u001b[0m\u001b[0;34m(\u001b[0m\u001b[0mcontig\u001b[0m\u001b[0;34m,\u001b[0m \u001b[0mstart\u001b[0m\u001b[0;34m,\u001b[0m \u001b[0mend\u001b[0m\u001b[0;34m)\u001b[0m\u001b[0;34m\u001b[0m\u001b[0m\n\u001b[0m",
      "\u001b[0;32m/Users/akmorrow/ADAM/mango/mango-python/bdgenomics/mango/genotypes.pyc\u001b[0m in \u001b[0;36mviewPileup\u001b[0;34m(self, contig, start, end, reference, label, showPlot)\u001b[0m\n\u001b[1;32m    141\u001b[0m         \u001b[0;31m# visualize\u001b[0m\u001b[0;34m\u001b[0m\u001b[0;34m\u001b[0m\u001b[0m\n\u001b[1;32m    142\u001b[0m         \u001b[0;32mif\u001b[0m \u001b[0;34m(\u001b[0m\u001b[0mshowPlot\u001b[0m\u001b[0;34m)\u001b[0m\u001b[0;34m:\u001b[0m\u001b[0;34m\u001b[0m\u001b[0m\n\u001b[0;32m--> 143\u001b[0;31m             \u001b[0;31m# make variant track\u001b[0m\u001b[0;34m\u001b[0m\u001b[0;34m\u001b[0m\u001b[0m\n\u001b[0m\u001b[1;32m    144\u001b[0m             \u001b[0mtracks\u001b[0m\u001b[0;34m=\u001b[0m\u001b[0;34m[\u001b[0m\u001b[0mTrack\u001b[0m\u001b[0;34m(\u001b[0m\u001b[0mviz\u001b[0m\u001b[0;34m=\u001b[0m\u001b[0;34m\"genotypes\"\u001b[0m\u001b[0;34m,\u001b[0m \u001b[0mlabel\u001b[0m\u001b[0;34m=\u001b[0m\u001b[0mlabel\u001b[0m\u001b[0;34m,\u001b[0m \u001b[0msource\u001b[0m\u001b[0;34m=\u001b[0m\u001b[0mpileup\u001b[0m\u001b[0;34m.\u001b[0m\u001b[0msources\u001b[0m\u001b[0;34m.\u001b[0m\u001b[0mGA4GHVariantJson\u001b[0m\u001b[0;34m(\u001b[0m\u001b[0mjson\u001b[0m\u001b[0;34m)\u001b[0m\u001b[0;34m)\u001b[0m\u001b[0;34m]\u001b[0m\u001b[0;34m\u001b[0m\u001b[0m\n\u001b[1;32m    145\u001b[0m             \u001b[0mlocus\u001b[0m\u001b[0;34m=\u001b[0m\u001b[0;34m\"%s:%i-%i\"\u001b[0m \u001b[0;34m%\u001b[0m \u001b[0;34m(\u001b[0m\u001b[0mcontig\u001b[0m\u001b[0;34m,\u001b[0m \u001b[0mstart\u001b[0m\u001b[0;34m,\u001b[0m \u001b[0mend\u001b[0m\u001b[0;34m)\u001b[0m\u001b[0;34m\u001b[0m\u001b[0m\n",
      "\u001b[0;31mNameError\u001b[0m: global name 'pileup' is not defined"
     ]
    }
   ],
   "source": [
    "contig = \"17\"\n",
    "start = 7512002\n",
    "end = 7512788\n",
    "\n",
    "genotypeViz.viewPileup(contig, start, end)"
   ]
  },
  {
   "cell_type": "markdown",
   "metadata": {},
   "source": [
    "# Features"
   ]
  },
  {
   "cell_type": "code",
   "execution_count": 8,
   "metadata": {
    "collapsed": true
   },
   "outputs": [],
   "source": [
    "features = ac.loadFeatures(featureFile)\n",
    "featureViz = FeatureSummary(ac, features)"
   ]
  },
  {
   "cell_type": "code",
   "execution_count": 9,
   "metadata": {},
   "outputs": [
    {
     "data": {
      "application/vnd.jupyter.widget-view+json": {
       "model_id": "a7a690ec09b04eb5a186c3dc6efdaf37",
       "version_major": 2,
       "version_minor": 0
      },
      "text/plain": [
       "A Jupyter Widget"
      ]
     },
     "metadata": {},
     "output_type": "display_data"
    }
   ],
   "source": [
    "contig = \"17\"\n",
    "start = 582500\n",
    "end = 594500\n",
    "\n",
    "featureViz.viewPileup(contig, start, end)"
   ]
  },
  {
   "cell_type": "code",
   "execution_count": 19,
   "metadata": {},
   "outputs": [
    {
     "data": {
      "text/plain": [
       "<py4j.java_gateway.JavaMember at 0x108d8cd50>"
      ]
     },
     "execution_count": 19,
     "metadata": {},
     "output_type": "execute_result"
    }
   ],
   "source": [
    "ac._jvm.org.bdgenomics.mango.converters.GA4GHutil.genotypeDatasetToJSON"
   ]
  }
 ],
 "metadata": {
  "kernelspec": {
   "display_name": "Python 2",
   "language": "python",
   "name": "python2"
  },
  "language_info": {
   "codemirror_mode": {
    "name": "ipython",
    "version": 2
   },
   "file_extension": ".py",
   "mimetype": "text/x-python",
   "name": "python",
   "nbconvert_exporter": "python",
   "pygments_lexer": "ipython2",
   "version": "2.7.12"
  }
 },
 "nbformat": 4,
 "nbformat_minor": 1
}
