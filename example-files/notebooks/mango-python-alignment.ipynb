{
 "cells": [
  {
   "cell_type": "code",
   "execution_count": null,
   "metadata": {},
   "outputs": [],
   "source": [
    "################ For testing purposes only ################\n",
    "try:\n",
    "   testMode\n",
    "except NameError:\n",
    "   testMode = False\n",
    "\n",
    "try:\n",
    "    alignmentFile\n",
    "except NameError:\n",
    "   # NOTE: this is for a local example. Based on file placement, you may have to change this path\n",
    "    alignmentFile = os.getcwd() + \"/../chr17.7500000-7515000.sam.adam\""
   ]
  },
  {
   "cell_type": "code",
   "execution_count": null,
   "metadata": {},
   "outputs": [],
   "source": [
    "import os \n",
    "\n",
    "from bdgenomics.adam.adamContext import ADAMContext\n",
    "from bdgenomics.adam.rdd import AlignmentRecordRDD, CoverageRDD\n",
    "\n",
    "from bdgenomics.mango.alignments import  *"
   ]
  },
  {
   "cell_type": "markdown",
   "metadata": {},
   "source": [
    "# Load in Alignment Data"
   ]
  },
  {
   "cell_type": "code",
   "execution_count": null,
   "metadata": {},
   "outputs": [],
   "source": [
    "try:\n",
    "   ac\n",
    "except NameError:\n",
    "   ac = ADAMContext(spark)\n",
    "\n",
    "# load file\n",
    "alignment = ac.loadAlignments(alignmentFile)"
   ]
  },
  {
   "cell_type": "markdown",
   "metadata": {},
   "source": [
    "## Create Summary for Alignment Data"
   ]
  },
  {
   "cell_type": "code",
   "execution_count": null,
   "metadata": {},
   "outputs": [],
   "source": [
    "ad = AlignmentSummary(spark, ac, alignment, sample=0.1)"
   ]
  },
  {
   "cell_type": "code",
   "execution_count": null,
   "metadata": {},
   "outputs": [],
   "source": [
    "indels = ad.getIndelDistribution(bin_size=500)\n"
   ]
  },
  {
   "cell_type": "code",
   "execution_count": null,
   "metadata": {},
   "outputs": [],
   "source": [
    "ax, results = indels.plot(plotType=\"I\", testMode=testMode)\n",
    "\n",
    "if (ax != None):\n",
    "    ax.set_title(\"Insertion distributions on Chromosome 17\")\n",
    "    ax.set_xlabel(\"Chromosome\")\n",
    "    ax.set_ylabel(\"Counts\")\n",
    "    plt.show()"
   ]
  },
  {
   "cell_type": "markdown",
   "metadata": {},
   "source": [
    "## Draw Coverage Distribution for Alignment Data"
   ]
  },
  {
   "cell_type": "code",
   "execution_count": null,
   "metadata": {},
   "outputs": [],
   "source": [
    "cov = ad.getCoverageDistribution()"
   ]
  },
  {
   "cell_type": "code",
   "execution_count": null,
   "metadata": {},
   "outputs": [],
   "source": [
    "ax, data = cov.plotDistributions()\n",
    "\n",
    "if (ax != None and not testMode):\n",
    "    ax.set_title(\"Coverage Distribution\")\n",
    "    ax.set_xlabel(\"Coverage Depth\")\n",
    "    ax.set_ylabel(\"Normalized Counts\")\n",
    "    plt.show()"
   ]
  },
  {
   "cell_type": "markdown",
   "metadata": {},
   "source": [
    "## Draw Fragment Distribution for Alignment Data"
   ]
  },
  {
   "cell_type": "code",
   "execution_count": null,
   "metadata": {},
   "outputs": [],
   "source": [
    "fragments = ad.getFragmentDistribution()"
   ]
  },
  {
   "cell_type": "code",
   "execution_count": null,
   "metadata": {},
   "outputs": [],
   "source": [
    "ax, data = fragments.plotDistributions(bar=True)\n",
    "\n",
    "if (ax != None and not testMode):\n",
    "    ax.set_title(\"Fragment Distribution\")\n",
    "    ax.set_xlabel(\"Fragment Length\")\n",
    "    ax.set_ylabel(\"Normalized Counts\")\n",
    "    plt.show()"
   ]
  },
  {
   "cell_type": "markdown",
   "metadata": {},
   "source": [
    "## Draw Mapping Quality Distribution for Alignment Data"
   ]
  },
  {
   "cell_type": "code",
   "execution_count": null,
   "metadata": {},
   "outputs": [],
   "source": [
    "mapq = ad.getMapQDistribution()"
   ]
  },
  {
   "cell_type": "code",
   "execution_count": null,
   "metadata": {},
   "outputs": [],
   "source": [
    "ax, data = mapq.plotDistributions(bar=True)\n",
    "\n",
    "if (ax != None and not testMode):\n",
    "    ax.set_title(\"MapQ Distribution\")\n",
    "    ax.set_xlabel(\"MapQ\")\n",
    "    ax.set_ylabel(\"Normalized Counts\")\n",
    "    plt.show()"
   ]
  },
  {
   "cell_type": "code",
   "execution_count": null,
   "metadata": {},
   "outputs": [],
   "source": []
  }
 ],
 "metadata": {
  "kernelspec": {
   "display_name": "Python 2",
   "language": "python",
   "name": "python2"
  },
  "language_info": {
   "codemirror_mode": {
    "name": "ipython",
    "version": 2
   },
   "file_extension": ".py",
   "mimetype": "text/x-python",
   "name": "python",
   "nbconvert_exporter": "python",
   "pygments_lexer": "ipython2",
   "version": "2.7.10"
  }
 },
 "nbformat": 4,
 "nbformat_minor": 2
}
