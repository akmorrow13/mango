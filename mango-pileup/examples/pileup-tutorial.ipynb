{
 "cells": [
  {
   "cell_type": "code",
   "execution_count": 1,
   "metadata": {},
   "outputs": [],
   "source": [
    "################ For testing purposes only ################\n",
    "import os\n",
    "\n",
    "try:\n",
    "    testMode\n",
    "except NameError:\n",
    "    testMode = False\n",
    "\n",
    "try:\n",
    "    alignmentJsonFile\n",
    "except NameError:\n",
    "    # NOTE: this is for a local example. Based on file placement, you may have to change this path\n",
    "    alignmentJsonFile = os.path.join(os.getcwd(), \"data/alignments.ga4gh.chr17.1-250.json\")\n",
    "\n",
    "\n",
    "try:\n",
    "    vcfFile\n",
    "except NameError:\n",
    "    # NOTE: this is for a local example. Based on file placement, you may have to change this path\n",
    "    vcfFile = './data/genodata.v3.vcf'\n",
    "\n",
    "try:\n",
    "    bedFile\n",
    "except NameError:\n",
    "    # NOTE: this is for a local example. Based on file placement, you may have to change this path\n",
    "    bedFile = os.path.join(os.getcwd(), \"../../example-files/chr17.582500-594500.bed\")"
   ]
  },
  {
   "cell_type": "markdown",
   "metadata": {},
   "source": [
    "# Tutorial for pileup widget\n",
    "\n",
    "This tutorial demonstrates how to use the [pileup.js](https://github.com/hammerlab/pileup.js) widget in a Jupyter notebook.\n"
   ]
  },
  {
   "cell_type": "code",
   "execution_count": 2,
   "metadata": {},
   "outputs": [
    {
     "name": "stdout",
     "output_type": "stream",
     "text": [
      "WARNING: Not monitoring node memory since `psutil` is not installed. Install this with `pip install psutil` (or ray[debug]) to enable debugging of memory-related crashes.\n"
     ]
    }
   ],
   "source": [
    "# imports \n",
    "from bdgenomics.mango.io import read_bed, read_vcf\n",
    "import bdgenomics.mango.pileup as pileup\n",
    "from bdgenomics.mango.pileup.track import *\n",
    "import modin.pandas as pd\n"
   ]
  },
  {
   "cell_type": "markdown",
   "metadata": {},
   "source": [
    "## Pileup Example\n",
    "\n",
    "This example shows how to visualize alignments through a Jupyter widget."
   ]
  },
  {
   "cell_type": "code",
   "execution_count": 3,
   "metadata": {},
   "outputs": [
    {
     "name": "stderr",
     "output_type": "stream",
     "text": [
      "UserWarning: `read_json` only optimized with `lines=True` defaulting to pandas implementation.\n",
      "To request implementation, send an email to feature_requests@modin.org.\n",
      "UserWarning: `read_json` defaulting to pandas implementation.\n"
     ]
    }
   ],
   "source": [
    "# read in JSON\n",
    "readsJson = pd.read_json(alignmentJsonFile)"
   ]
  },
  {
   "cell_type": "code",
   "execution_count": 4,
   "metadata": {},
   "outputs": [
    {
     "name": "stderr",
     "output_type": "stream",
     "text": [
      "UserWarning: `DataFrame.to_json` defaulting to pandas implementation.\n"
     ]
    }
   ],
   "source": [
    "GA4GHAlignmentJson = readsJson.to_json()"
   ]
  },
  {
   "cell_type": "code",
   "execution_count": 6,
   "metadata": {},
   "outputs": [
    {
     "data": {
      "application/vnd.jupyter.widget-view+json": {
       "model_id": "5af033da2c0b4db5817285f80915b0d4",
       "version_major": 2,
       "version_minor": 0
      },
      "text/plain": [
       "A Jupyter Widget"
      ]
     },
     "metadata": {},
     "output_type": "display_data"
    }
   ],
   "source": [
    "# make pileup track\n",
    "\n",
    "tracks=[Track(viz=\"pileup\", label=\"my Reads\", source=pileup.sources.GA4GHAlignmentJson(GA4GHAlignmentJson))]\n",
    "\n",
    "# render tracks in widget\n",
    "reads = pileup.PileupViewer(locus=\"chr17:1-100\", reference=\"hg19\", tracks=tracks)\n",
    "reads\n"
   ]
  },
  {
   "cell_type": "code",
   "execution_count": null,
   "metadata": {},
   "outputs": [],
   "source": [
    "reads.zoomOut()"
   ]
  },
  {
   "cell_type": "markdown",
   "metadata": {},
   "source": [
    "## Variant Example\n",
    "\n",
    "This example shows how to visualize variants through a Jupyter widget."
   ]
  },
  {
   "cell_type": "code",
   "execution_count": 10,
   "metadata": {},
   "outputs": [
    {
     "data": {
      "text/html": [
       "<div>\n",
       "<style scoped>\n",
       "    .dataframe tbody tr th:only-of-type {\n",
       "        vertical-align: middle;\n",
       "    }\n",
       "\n",
       "    .dataframe tbody tr th {\n",
       "        vertical-align: top;\n",
       "    }\n",
       "\n",
       "    .dataframe thead th {\n",
       "        text-align: right;\n",
       "    }\n",
       "</style>\n",
       "<table border=\"1\" class=\"dataframe\">\n",
       "  <thead>\n",
       "    <tr style=\"text-align: right;\">\n",
       "      <th></th>\n",
       "      <th>CHROM</th>\n",
       "      <th>POS</th>\n",
       "      <th>ID</th>\n",
       "      <th>REF</th>\n",
       "      <th>ALT</th>\n",
       "      <th>QUAL</th>\n",
       "      <th>FILTER</th>\n",
       "      <th>INFO</th>\n",
       "      <th>FORMAT</th>\n",
       "      <th>1</th>\n",
       "      <th>...</th>\n",
       "      <th>90</th>\n",
       "      <th>91</th>\n",
       "      <th>92</th>\n",
       "      <th>93</th>\n",
       "      <th>94</th>\n",
       "      <th>95</th>\n",
       "      <th>96</th>\n",
       "      <th>97</th>\n",
       "      <th>98</th>\n",
       "      <th>99</th>\n",
       "    </tr>\n",
       "  </thead>\n",
       "  <tbody>\n",
       "    <tr>\n",
       "      <td>0</td>\n",
       "      <td>chr22</td>\n",
       "      <td>21079604</td>\n",
       "      <td>.</td>\n",
       "      <td>T</td>\n",
       "      <td>C</td>\n",
       "      <td>54.81</td>\n",
       "      <td>my_snp_filter</td>\n",
       "      <td>AC=2;AF=1.992e-03;AN=1004;DP=1624;ExcessHet=0....</td>\n",
       "      <td>GT:AD:DP:GQ:PGT:PID:PL</td>\n",
       "      <td>./.:0,0:0:.:.:.:0,0,0</td>\n",
       "      <td>...</td>\n",
       "      <td>./.:0,0:0:.:.:.:0,0,0</td>\n",
       "      <td>0/0:40,0:40:99:.:.:0,99,1485</td>\n",
       "      <td>0/0:2,0:2:6:.:.:0,6,49</td>\n",
       "      <td>0/0:1,0:1:3:.:.:0,3,27</td>\n",
       "      <td>0/0:3,0:3:9:.:.:0,9,107</td>\n",
       "      <td>./.:0,0:0:.:.:.:0,0,0</td>\n",
       "      <td>./.:0,0:0:.:.:.:0,0,0</td>\n",
       "      <td>0/0:4,0:4:12:.:.:0,12,113</td>\n",
       "      <td>0/0:2,0:2:6:.:.:0,6,56</td>\n",
       "      <td>0/0:2,0:2:6:.:.:0,6,74</td>\n",
       "    </tr>\n",
       "    <tr>\n",
       "      <td>1</td>\n",
       "      <td>chr22</td>\n",
       "      <td>21079633</td>\n",
       "      <td>.</td>\n",
       "      <td>C</td>\n",
       "      <td>T</td>\n",
       "      <td>37.06</td>\n",
       "      <td>PASS</td>\n",
       "      <td>AC=2;AF=2.247e-03;AN=890;DP=1466;ExcessHet=0.0...</td>\n",
       "      <td>GT:AD:DP:GQ:PL</td>\n",
       "      <td>./.:0,0:0:.:0,0,0</td>\n",
       "      <td>...</td>\n",
       "      <td>./.:0,0:0:.:0,0,0</td>\n",
       "      <td>0/0:40,0:40:99:0,99,1485</td>\n",
       "      <td>0/0:2,0:2:6:0,6,49</td>\n",
       "      <td>0/0:2,0:2:6:0,6,65</td>\n",
       "      <td>0/0:2,0:2:6:0,6,73</td>\n",
       "      <td>./.:0,0:0:.:0,0,0</td>\n",
       "      <td>./.:0,0:0:.:0,0,0</td>\n",
       "      <td>0/0:2,0:2:6:0,6,49</td>\n",
       "      <td>0/0:2,0:2:6:0,6,56</td>\n",
       "      <td>0/0:2,0:2:6:0,6,74</td>\n",
       "    </tr>\n",
       "    <tr>\n",
       "      <td>2</td>\n",
       "      <td>chr22</td>\n",
       "      <td>21079695</td>\n",
       "      <td>.</td>\n",
       "      <td>C</td>\n",
       "      <td>T</td>\n",
       "      <td>20.98</td>\n",
       "      <td>PASS</td>\n",
       "      <td>AC=1;AF=1.515e-03;AN=660;BaseQRankSum=-9.670e-...</td>\n",
       "      <td>GT:AD:DP:GQ:PL</td>\n",
       "      <td>0/0:1,0:1:3:0,3,18</td>\n",
       "      <td>...</td>\n",
       "      <td>./.:0,0:0:.:0,0,0</td>\n",
       "      <td>0/0:40,0:40:99:0,99,1485</td>\n",
       "      <td>./.:0,0:0:.:0,0,0</td>\n",
       "      <td>0/0:3,0:3:9:0,9,85</td>\n",
       "      <td>./.:0,0:0:.:0,0,0</td>\n",
       "      <td>./.:0,0:0:.:0,0,0</td>\n",
       "      <td>./.:0,0:0:.:0,0,0</td>\n",
       "      <td>0/0:1,0:1:3:0,3,33</td>\n",
       "      <td>./.:0,0:0:.:0,0,0</td>\n",
       "      <td>0/0:1,0:1:3:0,3,35</td>\n",
       "    </tr>\n",
       "    <tr>\n",
       "      <td>3</td>\n",
       "      <td>chr22</td>\n",
       "      <td>21080630</td>\n",
       "      <td>.</td>\n",
       "      <td>G</td>\n",
       "      <td>A</td>\n",
       "      <td>290.37</td>\n",
       "      <td>PASS</td>\n",
       "      <td>AC=1;AF=3.451e-04;AN=2898;BaseQRankSum=-3.133e...</td>\n",
       "      <td>GT:AD:DP:GQ:PL</td>\n",
       "      <td>0/0:2,0:2:6:0,6,59</td>\n",
       "      <td>...</td>\n",
       "      <td>0/0:37,0:37:99:0,99,1236</td>\n",
       "      <td>0/0:24,0:24:72:0,72,846</td>\n",
       "      <td>0/0:11,0:11:27:0,27,405</td>\n",
       "      <td>0/0:5,0:5:12:0,12,180</td>\n",
       "      <td>0/0:1,0:1:3:0,3,34</td>\n",
       "      <td>0/0:2,0:2:6:0,6,62</td>\n",
       "      <td>0/0:3,0:3:9:0,9,80</td>\n",
       "      <td>0/0:5,0:5:9:0,9,135</td>\n",
       "      <td>0/0:3,0:3:9:0,9,108</td>\n",
       "      <td>0/0:3,0:3:9:0,9,74</td>\n",
       "    </tr>\n",
       "    <tr>\n",
       "      <td>4</td>\n",
       "      <td>chr22</td>\n",
       "      <td>21080713</td>\n",
       "      <td>.</td>\n",
       "      <td>G</td>\n",
       "      <td>A</td>\n",
       "      <td>22.51</td>\n",
       "      <td>my_snp_filter</td>\n",
       "      <td>AC=5;AF=1.834e-03;AN=2726;BaseQRankSum=-1.674e...</td>\n",
       "      <td>GT:AD:DP:GQ:PL</td>\n",
       "      <td>0/0:6,0:6:18:0,18,153</td>\n",
       "      <td>...</td>\n",
       "      <td>0/0:76,0:76:6:0,6,90</td>\n",
       "      <td>0/0:34,0:34:99:0,99,1237</td>\n",
       "      <td>0/0:11,0:11:21:0,21,315</td>\n",
       "      <td>0/0:6,0:6:12:0,12,180</td>\n",
       "      <td>0/0:6,0:6:9:0,9,135</td>\n",
       "      <td>./.:5,0:5:.:0,0,0</td>\n",
       "      <td>0/0:8,0:8:24:0,24,245</td>\n",
       "      <td>0/0:8,0:8:24:0,24,263</td>\n",
       "      <td>./.:3,0:3:.:0,0,0</td>\n",
       "      <td>0/0:4,0:4:3:0,3,45</td>\n",
       "    </tr>\n",
       "  </tbody>\n",
       "</table>\n",
       "<p>5 rows x 108 columns</p>\n",
       "</div>"
      ],
      "text/plain": [
       "   CHROM       POS ID REF ALT    QUAL         FILTER  \\\n",
       "0  chr22  21079604  .   T   C   54.81  my_snp_filter   \n",
       "1  chr22  21079633  .   C   T   37.06           PASS   \n",
       "2  chr22  21079695  .   C   T   20.98           PASS   \n",
       "3  chr22  21080630  .   G   A  290.37           PASS   \n",
       "4  chr22  21080713  .   G   A   22.51  my_snp_filter   \n",
       "\n",
       "                                                INFO                  FORMAT  \\\n",
       "0  AC=2;AF=1.992e-03;AN=1004;DP=1624;ExcessHet=0....  GT:AD:DP:GQ:PGT:PID:PL   \n",
       "1  AC=2;AF=2.247e-03;AN=890;DP=1466;ExcessHet=0.0...          GT:AD:DP:GQ:PL   \n",
       "2  AC=1;AF=1.515e-03;AN=660;BaseQRankSum=-9.670e-...          GT:AD:DP:GQ:PL   \n",
       "3  AC=1;AF=3.451e-04;AN=2898;BaseQRankSum=-3.133e...          GT:AD:DP:GQ:PL   \n",
       "4  AC=5;AF=1.834e-03;AN=2726;BaseQRankSum=-1.674e...          GT:AD:DP:GQ:PL   \n",
       "\n",
       "                       1  ...                        90  \\\n",
       "0  ./.:0,0:0:.:.:.:0,0,0  ...     ./.:0,0:0:.:.:.:0,0,0   \n",
       "1      ./.:0,0:0:.:0,0,0  ...         ./.:0,0:0:.:0,0,0   \n",
       "2     0/0:1,0:1:3:0,3,18  ...         ./.:0,0:0:.:0,0,0   \n",
       "3     0/0:2,0:2:6:0,6,59  ...  0/0:37,0:37:99:0,99,1236   \n",
       "4  0/0:6,0:6:18:0,18,153  ...      0/0:76,0:76:6:0,6,90   \n",
       "\n",
       "                             91                       92  \\\n",
       "0  0/0:40,0:40:99:.:.:0,99,1485   0/0:2,0:2:6:.:.:0,6,49   \n",
       "1      0/0:40,0:40:99:0,99,1485       0/0:2,0:2:6:0,6,49   \n",
       "2      0/0:40,0:40:99:0,99,1485        ./.:0,0:0:.:0,0,0   \n",
       "3       0/0:24,0:24:72:0,72,846  0/0:11,0:11:27:0,27,405   \n",
       "4      0/0:34,0:34:99:0,99,1237  0/0:11,0:11:21:0,21,315   \n",
       "\n",
       "                       93                       94                     95  \\\n",
       "0  0/0:1,0:1:3:.:.:0,3,27  0/0:3,0:3:9:.:.:0,9,107  ./.:0,0:0:.:.:.:0,0,0   \n",
       "1      0/0:2,0:2:6:0,6,65       0/0:2,0:2:6:0,6,73      ./.:0,0:0:.:0,0,0   \n",
       "2      0/0:3,0:3:9:0,9,85        ./.:0,0:0:.:0,0,0      ./.:0,0:0:.:0,0,0   \n",
       "3   0/0:5,0:5:12:0,12,180       0/0:1,0:1:3:0,3,34     0/0:2,0:2:6:0,6,62   \n",
       "4   0/0:6,0:6:12:0,12,180      0/0:6,0:6:9:0,9,135      ./.:5,0:5:.:0,0,0   \n",
       "\n",
       "                      96                         97                      98  \\\n",
       "0  ./.:0,0:0:.:.:.:0,0,0  0/0:4,0:4:12:.:.:0,12,113  0/0:2,0:2:6:.:.:0,6,56   \n",
       "1      ./.:0,0:0:.:0,0,0         0/0:2,0:2:6:0,6,49      0/0:2,0:2:6:0,6,56   \n",
       "2      ./.:0,0:0:.:0,0,0         0/0:1,0:1:3:0,3,33       ./.:0,0:0:.:0,0,0   \n",
       "3     0/0:3,0:3:9:0,9,80        0/0:5,0:5:9:0,9,135     0/0:3,0:3:9:0,9,108   \n",
       "4  0/0:8,0:8:24:0,24,245      0/0:8,0:8:24:0,24,263       ./.:3,0:3:.:0,0,0   \n",
       "\n",
       "                       99  \n",
       "0  0/0:2,0:2:6:.:.:0,6,74  \n",
       "1      0/0:2,0:2:6:0,6,74  \n",
       "2      0/0:1,0:1:3:0,3,35  \n",
       "3      0/0:3,0:3:9:0,9,74  \n",
       "4      0/0:4,0:4:3:0,3,45  \n",
       "\n",
       "[5 rows x 108 columns]"
      ]
     },
     "execution_count": 10,
     "metadata": {},
     "output_type": "execute_result"
    }
   ],
   "source": [
    "variantData = read_vcf(vcfFile)\n",
    "variantData.head()"
   ]
  },
  {
   "cell_type": "code",
   "execution_count": 11,
   "metadata": {},
   "outputs": [
    {
     "data": {
      "application/vnd.jupyter.widget-view+json": {
       "model_id": "8fcb19cf74334bbfb01af2d98a887b47",
       "version_major": 2,
       "version_minor": 0
      },
      "text/plain": [
       "A Jupyter Widget"
      ]
     },
     "metadata": {},
     "output_type": "display_data"
    }
   ],
   "source": [
    "# make variant track\n",
    "tracks=[Track(viz=\"variants\", label=\"my Variants\", source=pileup.sources.DataFrameSource(variantData))]\n",
    "\n",
    "# render tracks in widget\n",
    "variants = pileup.PileupViewer(locus=\"chr22:21079589-21079647\", reference=\"hg19\", tracks=tracks)\n",
    "variants"
   ]
  },
  {
   "cell_type": "markdown",
   "metadata": {},
   "source": [
    "## Feature Example\n",
    "\n",
    "This example shows how to visualize features through a Jupyter widget."
   ]
  },
  {
   "cell_type": "code",
   "execution_count": 12,
   "metadata": {},
   "outputs": [
    {
     "data": {
      "text/html": [
       "<div>\n",
       "<style scoped>\n",
       "    .dataframe tbody tr th:only-of-type {\n",
       "        vertical-align: middle;\n",
       "    }\n",
       "\n",
       "    .dataframe tbody tr th {\n",
       "        vertical-align: top;\n",
       "    }\n",
       "\n",
       "    .dataframe thead th {\n",
       "        text-align: right;\n",
       "    }\n",
       "</style>\n",
       "<table border=\"1\" class=\"dataframe\">\n",
       "  <thead>\n",
       "    <tr style=\"text-align: right;\">\n",
       "      <th></th>\n",
       "      <th>chrom</th>\n",
       "      <th>chromStart</th>\n",
       "      <th>chromEnd</th>\n",
       "      <th>name</th>\n",
       "      <th>score</th>\n",
       "      <th>strand</th>\n",
       "      <th>thickStart</th>\n",
       "      <th>thickEnd</th>\n",
       "      <th>itemRGB</th>\n",
       "      <th>blockCount</th>\n",
       "      <th>blockSizes</th>\n",
       "      <th>blockStarts</th>\n",
       "    </tr>\n",
       "  </thead>\n",
       "  <tbody>\n",
       "    <tr>\n",
       "      <td>0</td>\n",
       "      <td>chr17</td>\n",
       "      <td>5821</td>\n",
       "      <td>31270</td>\n",
       "      <td>NaN</td>\n",
       "      <td>NaN</td>\n",
       "      <td>NaN</td>\n",
       "      <td>NaN</td>\n",
       "      <td>NaN</td>\n",
       "      <td>NaN</td>\n",
       "      <td>NaN</td>\n",
       "      <td>NaN</td>\n",
       "      <td>NaN</td>\n",
       "    </tr>\n",
       "    <tr>\n",
       "      <td>1</td>\n",
       "      <td>chr17</td>\n",
       "      <td>62296</td>\n",
       "      <td>202576</td>\n",
       "      <td>NaN</td>\n",
       "      <td>NaN</td>\n",
       "      <td>NaN</td>\n",
       "      <td>NaN</td>\n",
       "      <td>NaN</td>\n",
       "      <td>NaN</td>\n",
       "      <td>NaN</td>\n",
       "      <td>NaN</td>\n",
       "      <td>NaN</td>\n",
       "    </tr>\n",
       "    <tr>\n",
       "      <td>2</td>\n",
       "      <td>chr17</td>\n",
       "      <td>62296</td>\n",
       "      <td>202576</td>\n",
       "      <td>NaN</td>\n",
       "      <td>NaN</td>\n",
       "      <td>NaN</td>\n",
       "      <td>NaN</td>\n",
       "      <td>NaN</td>\n",
       "      <td>NaN</td>\n",
       "      <td>NaN</td>\n",
       "      <td>NaN</td>\n",
       "      <td>NaN</td>\n",
       "    </tr>\n",
       "    <tr>\n",
       "      <td>3</td>\n",
       "      <td>chr17</td>\n",
       "      <td>260433</td>\n",
       "      <td>264713</td>\n",
       "      <td>NaN</td>\n",
       "      <td>NaN</td>\n",
       "      <td>NaN</td>\n",
       "      <td>NaN</td>\n",
       "      <td>NaN</td>\n",
       "      <td>NaN</td>\n",
       "      <td>NaN</td>\n",
       "      <td>NaN</td>\n",
       "      <td>NaN</td>\n",
       "    </tr>\n",
       "    <tr>\n",
       "      <td>4</td>\n",
       "      <td>chr17</td>\n",
       "      <td>290007</td>\n",
       "      <td>295959</td>\n",
       "      <td>NaN</td>\n",
       "      <td>NaN</td>\n",
       "      <td>NaN</td>\n",
       "      <td>NaN</td>\n",
       "      <td>NaN</td>\n",
       "      <td>NaN</td>\n",
       "      <td>NaN</td>\n",
       "      <td>NaN</td>\n",
       "      <td>NaN</td>\n",
       "    </tr>\n",
       "  </tbody>\n",
       "</table>\n",
       "</div>"
      ],
      "text/plain": [
       "   chrom  chromStart  chromEnd  name  score  strand  thickStart  thickEnd  \\\n",
       "0  chr17        5821     31270   NaN    NaN     NaN         NaN       NaN   \n",
       "1  chr17       62296    202576   NaN    NaN     NaN         NaN       NaN   \n",
       "2  chr17       62296    202576   NaN    NaN     NaN         NaN       NaN   \n",
       "3  chr17      260433    264713   NaN    NaN     NaN         NaN       NaN   \n",
       "4  chr17      290007    295959   NaN    NaN     NaN         NaN       NaN   \n",
       "\n",
       "   itemRGB  blockCount  blockSizes  blockStarts  \n",
       "0      NaN         NaN         NaN          NaN  \n",
       "1      NaN         NaN         NaN          NaN  \n",
       "2      NaN         NaN         NaN          NaN  \n",
       "3      NaN         NaN         NaN          NaN  \n",
       "4      NaN         NaN         NaN          NaN  "
      ]
     },
     "execution_count": 12,
     "metadata": {},
     "output_type": "execute_result"
    }
   ],
   "source": [
    "featuresData = read_bed(bedFile)\n",
    "featuresData.head()"
   ]
  },
  {
   "cell_type": "code",
   "execution_count": 13,
   "metadata": {},
   "outputs": [
    {
     "data": {
      "application/vnd.jupyter.widget-view+json": {
       "model_id": "03f79c48f47a4092ba62d77bebe52eb6",
       "version_major": 2,
       "version_minor": 0
      },
      "text/plain": [
       "A Jupyter Widget"
      ]
     },
     "metadata": {},
     "output_type": "display_data"
    }
   ],
   "source": [
    "# make feature track\n",
    "from ipywidgets import Layout\n",
    "tracks=[Track(viz=\"features\", label=\"my features\", source=pileup.sources.DataFrameSource(featuresData))]\n",
    "\n",
    "features = pileup.PileupViewer(locus=\"chr17:167398-461054\", reference=\"hg19\",\n",
    "                               tracks=tracks)\n",
    "features"
   ]
  },
  {
   "cell_type": "markdown",
   "metadata": {},
   "source": [
    "## Genotype Example\n",
    "\n",
    "This example shows how to visualize genotypes through a Jupyter widget."
   ]
  },
  {
   "cell_type": "code",
   "execution_count": 14,
   "metadata": {},
   "outputs": [
    {
     "data": {
      "application/vnd.jupyter.widget-view+json": {
       "model_id": "e37d3f565d8e4f9c890ae6bb32da413f",
       "version_major": 2,
       "version_minor": 0
      },
      "text/plain": [
       "A Jupyter Widget"
      ]
     },
     "metadata": {},
     "output_type": "display_data"
    }
   ],
   "source": [
    "# make genotype track\n",
    "tracks=[Track(viz=\"genotypes\", label=\"my Genotypes\", source=pileup.sources.DataFrameSource(variantData))]\n",
    "\n",
    "# render tracks in widget\n",
    "genotypes = pileup.PileupViewer(locus=\"chr22:21340030-21340150\", reference=\"hg19\", tracks=tracks)\n",
    "genotypes"
   ]
  },
  {
   "cell_type": "code",
   "execution_count": null,
   "metadata": {},
   "outputs": [],
   "source": []
  }
 ],
 "metadata": {
  "kernelspec": {
   "display_name": "JupyterLabv1",
   "language": "python",
   "name": "jupyterlabv1"
  },
  "language_info": {
   "codemirror_mode": {
    "name": "ipython",
    "version": 3
   },
   "file_extension": ".py",
   "mimetype": "text/x-python",
   "name": "python",
   "nbconvert_exporter": "python",
   "pygments_lexer": "ipython3",
   "version": "3.7.6"
  }
 },
 "nbformat": 4,
 "nbformat_minor": 4
}
